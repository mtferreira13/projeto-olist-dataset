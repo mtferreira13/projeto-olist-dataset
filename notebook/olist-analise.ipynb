{
 "cells": [
  {
   "cell_type": "code",
   "execution_count": null,
   "id": "cf9616f0",
   "metadata": {},
   "outputs": [],
   "source": [
    "import pandas as pd\n",
    "import matplotlib.pyplot as plt\n",
    "import seaborn as sns"
   ]
  },
  {
   "cell_type": "code",
   "execution_count": null,
   "id": "6d120d04",
   "metadata": {},
   "outputs": [],
   "source": [
    "df_customers = pd.read_csv('../data/unprocessed/olist_customers_dataset.csv')\n",
    "df_orders = pd.read_csv('../data/unprocessed/olist_orders_dataset.csv')\n",
    "df_order_items = pd.read_csv('../data/unprocessed/olist_order_items_dataset.csv')\n",
    "df_products = pd.read_csv('../data/unprocessed/olist_products_dataset.csv')\n",
    "df_sellers = pd.read_csv('../data/unprocessed/olist_sellers_dataset.csv')\n",
    "df_geolocation = pd.read_csv('../data/unprocessed/olist_geolocation_dataset.csv')   \n",
    "df_marketing = pd.read_csv('../data/unprocessed/olist_marketing_qualified_leads_dataset.csv')\n",
    "df_order_payments = pd.read_csv('../data/unprocessed/olist_order_payments_dataset.csv')\n",
    "df_order_reviews = pd.read_csv('../data/unprocessed/olist_order_reviews_dataset.csv')\n",
    "df_category_name_translation = pd.read_csv('../data/unprocessed/product_category_name_translation.csv')\n",
    "df_closed_deals = pd.read_csv('../data/unprocessed/olist_closed_deals_dataset.csv')\n",
    "\n"
   ]
  },
  {
   "cell_type": "markdown",
   "id": "c2a5c90c",
   "metadata": {},
   "source": [
    "# Análise exploratória inicial, conhecendo o escopo de cada CSV\n",
    "---"
   ]
  },
  {
   "cell_type": "markdown",
   "id": "33769b4d",
   "metadata": {},
   "source": [
    "### Análise do dataset \"Customers\"\n",
    "\n",
    "- **Estrutura:** A tabela tem 5 colunas e 99441 linhas\n",
    "- **Qualidade:** Dataset não apresenta valores nulos.\n",
    "- **Insights:** As colunas `customer_unique` e `customer_unique_id` são prováveis chaves, e serão usadas para unificação dos dados"
   ]
  },
  {
   "cell_type": "code",
   "execution_count": null,
   "id": "9acc8419",
   "metadata": {},
   "outputs": [],
   "source": [
    "print(\"--- Informações Estruturais (info) ---\")\n",
    "df_customers.info()"
   ]
  },
  {
   "cell_type": "code",
   "execution_count": null,
   "id": "5de05fb3",
   "metadata": {},
   "outputs": [],
   "source": [
    "print(\"\\n--- Contagem de Nulos (isnull) ---\")\n",
    "print(df_customers.isnull().sum())"
   ]
  },
  {
   "cell_type": "code",
   "execution_count": null,
   "id": "8942b977",
   "metadata": {},
   "outputs": [],
   "source": [
    "print(\"\\n--- Visualização Inicial (head) ---\")\n",
    "df_customers.head()"
   ]
  },
  {
   "cell_type": "code",
   "execution_count": null,
   "id": "469a28ed",
   "metadata": {},
   "outputs": [],
   "source": [
    "print(\"--- Informações descritivas (describe) ---\")\n",
    "df_customers.describe()"
   ]
  },
  {
   "cell_type": "code",
   "execution_count": null,
   "id": "44242a5e",
   "metadata": {},
   "outputs": [],
   "source": [
    "print(\"--- Informações descritivas (tamanho) ---\")\n",
    "df_customers.shape"
   ]
  },
  {
   "cell_type": "markdown",
   "id": "803facc6",
   "metadata": {},
   "source": [
    "### Análise do dataset \"Orders\"\n",
    "\n",
    "- **Estrutura:** A tabela tem 8 colunas e 99441 linhas\n",
    "- **Qualidade:** A coluna \"order_approved_at\" tem 160 valores nulos, a coluna \"order_delivered_carrier_date\" tem 1783 valores nulos e a coluna \"order_delivered_customer_date\" tem 2965 valores nulos.\n",
    "- **Insights:** A coluna `customer_unique` é a provável chave, e será usada para unificação dos dados. Verificar também as colunas que contém data (que precisam ser convertidas) e estão nulas."
   ]
  },
  {
   "cell_type": "code",
   "execution_count": null,
   "id": "aafb3ae8",
   "metadata": {},
   "outputs": [],
   "source": [
    "print(\"--- Informações Estruturais (info) ---\")\n",
    "df_orders.info()"
   ]
  },
  {
   "cell_type": "code",
   "execution_count": null,
   "id": "baf11147",
   "metadata": {},
   "outputs": [],
   "source": [
    "print(\"\\n--- Contagem de Nulos (isnull) ---\")\n",
    "print(df_orders.isnull().sum())"
   ]
  },
  {
   "cell_type": "code",
   "execution_count": null,
   "id": "f0117c21",
   "metadata": {},
   "outputs": [],
   "source": [
    "print(\"\\n--- Visualização Inicial (head) ---\")\n",
    "df_orders.head()"
   ]
  },
  {
   "cell_type": "code",
   "execution_count": null,
   "id": "293bc201",
   "metadata": {},
   "outputs": [],
   "source": [
    "print(\"--- Informações descritivas (describe) ---\")\n",
    "df_orders.describe()"
   ]
  },
  {
   "cell_type": "code",
   "execution_count": null,
   "id": "43eeccb4",
   "metadata": {},
   "outputs": [],
   "source": [
    "print(\"--- Informações descritivas (tamanho) ---\")\n",
    "df_orders.shape"
   ]
  },
  {
   "cell_type": "markdown",
   "id": "fc568e97",
   "metadata": {},
   "source": [
    "### Análise do dataset \"Order_items\"\n",
    "\n",
    "- **Estrutura:** A tabela tem 7 colunas e 112650 linhas\n",
    "- **Qualidade:** Dataset não apresenta valores nulos.\n",
    "- **Insights:** Temos 3 prováveis chaves, `order_id`, `product_id` e `seller_id`, que podem ser usadas para futuros relacionamentos. Coluna shipping_limit_date de data que precisa ser convertida."
   ]
  },
  {
   "cell_type": "code",
   "execution_count": null,
   "id": "ec25fa11",
   "metadata": {},
   "outputs": [],
   "source": [
    "print(\"--- Informações Estruturais (info) ---\")\n",
    "df_order_items.info() "
   ]
  },
  {
   "cell_type": "code",
   "execution_count": null,
   "id": "36410980",
   "metadata": {},
   "outputs": [],
   "source": [
    "print(\"\\n--- Contagem de Nulos (isnull) ---\")\n",
    "print(df_order_items.isnull().sum()) "
   ]
  },
  {
   "cell_type": "code",
   "execution_count": null,
   "id": "a91c7bbb",
   "metadata": {},
   "outputs": [],
   "source": [
    "print(\"\\n--- Visualização Inicial (head) ---\")\n",
    "df_order_items.head()"
   ]
  },
  {
   "cell_type": "code",
   "execution_count": null,
   "id": "e00b2ed8",
   "metadata": {},
   "outputs": [],
   "source": [
    "print(\"--- Informações descritivas (describe) ---\")\n",
    "df_order_items.describe()"
   ]
  },
  {
   "cell_type": "code",
   "execution_count": null,
   "id": "a23c721e",
   "metadata": {},
   "outputs": [],
   "source": [
    "print(\"--- Informações descritivas (tamanho) ---\")\n",
    "df_order_items.shape"
   ]
  },
  {
   "cell_type": "markdown",
   "id": "e052df9d",
   "metadata": {},
   "source": [
    "### Análise do dataset \"Products\"\n",
    "\n",
    "- **Estrutura:** A tabela tem 9 colunas e 32951 linhas\n",
    "- **Qualidade:** As colunas \"product_category_name\", \"product_name_lenght\",\"product_description_lenght\" e \"product_photos_qty\", são pontos de atenção, com 610 valores nulos. Ponto de observação: Há 2 valores nulos nas colunas que se referem a \"descrição fisica\" do produto\n",
    "- **Insights:** Temos a chave principal =  `product_id`. A coluna de categoria também será extremamente importante."
   ]
  },
  {
   "cell_type": "code",
   "execution_count": null,
   "id": "f72fb607",
   "metadata": {},
   "outputs": [],
   "source": [
    "print(\"--- Informações Estruturais (info) ---\")\n",
    "df_products.info() "
   ]
  },
  {
   "cell_type": "code",
   "execution_count": null,
   "id": "9041bb4e",
   "metadata": {},
   "outputs": [],
   "source": [
    "print(\"\\n--- Contagem de Nulos (isnull) ---\")\n",
    "print(df_products.isnull().sum()) "
   ]
  },
  {
   "cell_type": "code",
   "execution_count": null,
   "id": "ab3c28c3",
   "metadata": {},
   "outputs": [],
   "source": [
    "print(\"\\n--- Visualização Inicial (head) ---\")\n",
    "df_products.head()"
   ]
  },
  {
   "cell_type": "code",
   "execution_count": null,
   "id": "029d96c0",
   "metadata": {},
   "outputs": [],
   "source": [
    "print(\"--- Informações descritivas (describe) ---\")\n",
    "df_products.describe()"
   ]
  },
  {
   "cell_type": "code",
   "execution_count": null,
   "id": "2541d4d8",
   "metadata": {},
   "outputs": [],
   "source": [
    "print(\"--- Informações descritivas (tamanho) ---\")\n",
    "df_products.shape"
   ]
  },
  {
   "cell_type": "markdown",
   "id": "92a15d1a",
   "metadata": {},
   "source": [
    "### Análise do dataset \"Sellers\"\n",
    "\n",
    "- **Estrutura:** A tabela tem 4 colunas e 3095 linhas\n",
    "- **Qualidade:** Não há valores nulos.\n",
    "- **Insights:** Temos as chave =  `seller_id` e `seller_zip_code_prefix`. A coluna de estado e cidade também serão extremamente importantes para caracterização em mapa."
   ]
  },
  {
   "cell_type": "code",
   "execution_count": null,
   "id": "ec5efa92",
   "metadata": {},
   "outputs": [],
   "source": [
    "print(\"--- Informações Estruturais (info) ---\")\n",
    "df_sellers.info() "
   ]
  },
  {
   "cell_type": "code",
   "execution_count": null,
   "id": "96a1a59d",
   "metadata": {},
   "outputs": [],
   "source": [
    "print(\"\\n--- Contagem de Nulos (isnull) ---\")\n",
    "print(df_sellers.isnull().sum()) "
   ]
  },
  {
   "cell_type": "code",
   "execution_count": null,
   "id": "38bc0a84",
   "metadata": {},
   "outputs": [],
   "source": [
    "print(\"\\n--- Visualização Inicial (head) ---\")\n",
    "df_sellers.head()"
   ]
  },
  {
   "cell_type": "code",
   "execution_count": null,
   "id": "0932bc5b",
   "metadata": {},
   "outputs": [],
   "source": [
    "print(\"--- Informações descritivas (describe) ---\")\n",
    "df_sellers.describe()"
   ]
  },
  {
   "cell_type": "code",
   "execution_count": null,
   "id": "98e8fb5c",
   "metadata": {},
   "outputs": [],
   "source": [
    "print(\"--- Informações descritivas (tamanho) ---\")\n",
    "df_sellers.shape"
   ]
  },
  {
   "cell_type": "markdown",
   "id": "31391976",
   "metadata": {},
   "source": [
    "### Análise do dataset \"Geolocation\"\n",
    "\n",
    "- **Estrutura:** A tabela tem 5 colunas e 1000163 linhas\n",
    "- **Qualidade:** Não há valores nulos.\n",
    "- **Insights:** Temos a chave principal =  `geolocation_zip_code_prefix`. A coluna de estado e cidade também serão extremamente importantes para caracterização em mapa."
   ]
  },
  {
   "cell_type": "code",
   "execution_count": null,
   "id": "ad1be0b9",
   "metadata": {},
   "outputs": [],
   "source": [
    "print(\"--- Informações Estruturais (info) ---\")\n",
    "df_geolocation.info() "
   ]
  },
  {
   "cell_type": "code",
   "execution_count": null,
   "id": "9692ac2c",
   "metadata": {},
   "outputs": [],
   "source": [
    "print(\"\\n--- Contagem de Nulos (isnull) ---\")\n",
    "print(df_geolocation.isnull().sum()) "
   ]
  },
  {
   "cell_type": "code",
   "execution_count": null,
   "id": "b39ce46a",
   "metadata": {},
   "outputs": [],
   "source": [
    "print(\"\\n--- Visualização Inicial (head) ---\")\n",
    "df_geolocation.head()"
   ]
  },
  {
   "cell_type": "code",
   "execution_count": null,
   "id": "ce3ccb8d",
   "metadata": {},
   "outputs": [],
   "source": [
    "print(\"--- Informações descritivas (describe) ---\")\n",
    "df_geolocation.describe()"
   ]
  },
  {
   "cell_type": "code",
   "execution_count": null,
   "id": "5bd9ef83",
   "metadata": {},
   "outputs": [],
   "source": [
    "print(\"--- Informações descritivas (tamanho) ---\")\n",
    "df_geolocation.shape"
   ]
  },
  {
   "cell_type": "markdown",
   "id": "139fff58",
   "metadata": {},
   "source": [
    "### Análise do dataset \"Marketing_qualified\"\n",
    "\n",
    "- **Estrutura:** A tabela tem 4 colunas e 8000 linhas\n",
    "- **Qualidade:** A coluna \"origin\" possui 60 valores nulos\n",
    "- **Insights:** Temos as chaves =  `mql_id` e `landing_page_id`. Verificar o campo de origem, que pode ser importante para rastreamento dos dados."
   ]
  },
  {
   "cell_type": "code",
   "execution_count": null,
   "id": "007b5b92",
   "metadata": {},
   "outputs": [],
   "source": [
    "print(\"--- Informações Estruturais (info) ---\")\n",
    "df_marketing.info() "
   ]
  },
  {
   "cell_type": "code",
   "execution_count": null,
   "id": "b40613f5",
   "metadata": {},
   "outputs": [],
   "source": [
    "print(\"\\n--- Contagem de Nulos (isnull) ---\")\n",
    "print(df_marketing.isnull().sum()) "
   ]
  },
  {
   "cell_type": "code",
   "execution_count": null,
   "id": "4bb5f3ea",
   "metadata": {},
   "outputs": [],
   "source": [
    "print(\"\\n--- Visualização Inicial (head) ---\")\n",
    "df_marketing.head()"
   ]
  },
  {
   "cell_type": "code",
   "execution_count": null,
   "id": "fc405e52",
   "metadata": {},
   "outputs": [],
   "source": [
    "print(\"--- Informações descritivas (describe) ---\")\n",
    "df_marketing.describe()"
   ]
  },
  {
   "cell_type": "code",
   "execution_count": null,
   "id": "9ef5e02c",
   "metadata": {},
   "outputs": [],
   "source": [
    "print(\"--- Informações descritivas (tamanho) ---\")\n",
    "df_marketing.shape"
   ]
  },
  {
   "cell_type": "markdown",
   "id": "7d66c414",
   "metadata": {},
   "source": [
    "### Análise do dataset \"Order_payments\"\n",
    "\n",
    "- **Estrutura:** A tabela tem 5 colunas e 103886 linhas.\n",
    "- **Qualidade:** Não há valores nulos.\n",
    "- **Insights:** Temos a chave =  `order_id`. A coluna payment_type parece um dado importante."
   ]
  },
  {
   "cell_type": "code",
   "execution_count": null,
   "id": "a782040e",
   "metadata": {},
   "outputs": [],
   "source": [
    "print(\"--- Informações Estruturais (info) ---\")\n",
    "df_order_payments.info() "
   ]
  },
  {
   "cell_type": "code",
   "execution_count": null,
   "id": "70a119e1",
   "metadata": {},
   "outputs": [],
   "source": [
    "print(\"\\n--- Contagem de Nulos (isnull) ---\")\n",
    "print(df_order_payments.isnull().sum()) "
   ]
  },
  {
   "cell_type": "code",
   "execution_count": null,
   "id": "3be876c2",
   "metadata": {},
   "outputs": [],
   "source": [
    "print(\"\\n--- Visualização Inicial (head) ---\")\n",
    "df_order_payments.head()"
   ]
  },
  {
   "cell_type": "code",
   "execution_count": null,
   "id": "45b82bdf",
   "metadata": {},
   "outputs": [],
   "source": [
    "print(\"--- Informações descritivas (describe) ---\")\n",
    "df_order_payments.describe()"
   ]
  },
  {
   "cell_type": "code",
   "execution_count": null,
   "id": "2a5a5701",
   "metadata": {},
   "outputs": [],
   "source": [
    "print(\"--- Informações descritivas (tamanho) ---\")\n",
    "df_order_payments.shape"
   ]
  },
  {
   "cell_type": "markdown",
   "id": "de523cf7",
   "metadata": {},
   "source": [
    "### Análise do dataset \"Order_reviews\"\n",
    "\n",
    "- **Estrutura:** A tabela tem 7 colunas e 99224 linhas.\n",
    "- **Qualidade:** As colunas review_comment_title e review_comment_message, possuem respectivamente 87656 e 58247 valores nulos.\n",
    "- **Insights:** Temos a chave =  `order_id`. Os valores nulos de titulo de comentário, mesmos nulos não parecem ter um peso tão alto a depender do score."
   ]
  },
  {
   "cell_type": "code",
   "execution_count": null,
   "id": "659cfdf8",
   "metadata": {},
   "outputs": [],
   "source": [
    "print(\"--- Informações Estruturais (info) ---\")\n",
    "df_order_reviews.info() "
   ]
  },
  {
   "cell_type": "code",
   "execution_count": null,
   "id": "dd27e62b",
   "metadata": {},
   "outputs": [],
   "source": [
    "print(\"\\n--- Contagem de Nulos (isnull) ---\")\n",
    "print(df_order_reviews.isnull().sum()) "
   ]
  },
  {
   "cell_type": "code",
   "execution_count": null,
   "id": "03530821",
   "metadata": {},
   "outputs": [],
   "source": [
    "print(\"\\n--- Visualização Inicial (head) ---\")\n",
    "df_order_reviews.head()"
   ]
  },
  {
   "cell_type": "code",
   "execution_count": null,
   "id": "bb977491",
   "metadata": {},
   "outputs": [],
   "source": [
    "print(\"--- Informações descritivas (describe) ---\")\n",
    "df_order_reviews.describe()"
   ]
  },
  {
   "cell_type": "code",
   "execution_count": null,
   "id": "95e28151",
   "metadata": {},
   "outputs": [],
   "source": [
    "print(\"--- Informações descritivas (tamanho) ---\")\n",
    "df_order_reviews.shape"
   ]
  },
  {
   "cell_type": "markdown",
   "id": "0a743709",
   "metadata": {},
   "source": [
    "### Análise do dataset \"closed_deals\"\n",
    "\n",
    "- **Estrutura:** A tabela tem 14 colunas e 842 linhas.\n",
    "- **Qualidade:** As colunas business_segment, lead_type, lead_behaviour_profile, has_company, has_gtin, average_stock, business_type e declared_product_catalog_size, possuem respectivamente \n",
    "  1, 6, 177, 779, 778 ,776, 10, 773, valores nulos.\n",
    "- **Insights:** Temos as chaves =  `mql_id`, `seller_id`, `sdr_id` e `sr_id`, (verificar a importancia real das duas ultimas). "
   ]
  },
  {
   "cell_type": "code",
   "execution_count": null,
   "id": "2470893c",
   "metadata": {},
   "outputs": [],
   "source": [
    "print(\"--- Informações Estruturais (info) ---\")\n",
    "df_closed_deals.info() "
   ]
  },
  {
   "cell_type": "code",
   "execution_count": null,
   "id": "a4cd6284",
   "metadata": {},
   "outputs": [],
   "source": [
    "print(\"\\n--- Contagem de Nulos (isnull) ---\")\n",
    "print(df_closed_deals.isnull().sum()) "
   ]
  },
  {
   "cell_type": "code",
   "execution_count": null,
   "id": "e0bbb296",
   "metadata": {},
   "outputs": [],
   "source": [
    "print(\"\\n--- Visualização Inicial (head) ---\")\n",
    "df_closed_deals.head()"
   ]
  },
  {
   "cell_type": "code",
   "execution_count": null,
   "id": "5d8d6090",
   "metadata": {},
   "outputs": [],
   "source": [
    "print(\"--- Informações descritivas (describe) ---\")\n",
    "df_closed_deals.describe()"
   ]
  },
  {
   "cell_type": "code",
   "execution_count": null,
   "id": "34888dd5",
   "metadata": {},
   "outputs": [],
   "source": [
    "print(\"--- Informações descritivas (tamanho) ---\")\n",
    "df_closed_deals.shape"
   ]
  },
  {
   "cell_type": "markdown",
   "id": "bd9bfbc8",
   "metadata": {},
   "source": [
    "### Análise do dataset \"Category_name\"\n",
    "\n",
    "- **Estrutura:** A tabela tem 2 colunas e 71 linhas.\n",
    "- **Qualidade:** Não há valores nulos.\n",
    "- **Insights:** Temos a chave =  `product_category_name`. Basicamente uma coluna de tradução do nome da categoria, de portugues para ingles."
   ]
  },
  {
   "cell_type": "code",
   "execution_count": null,
   "id": "b75070a6",
   "metadata": {},
   "outputs": [],
   "source": [
    "print(\"--- Informações Estruturais (info) ---\")\n",
    "df_category_name_translation.info() "
   ]
  },
  {
   "cell_type": "code",
   "execution_count": null,
   "id": "b15834b7",
   "metadata": {},
   "outputs": [],
   "source": [
    "print(\"\\n--- Contagem de Nulos (isnull) ---\")\n",
    "print(df_category_name_translation.isnull().sum()) "
   ]
  },
  {
   "cell_type": "code",
   "execution_count": null,
   "id": "477e4da2",
   "metadata": {},
   "outputs": [],
   "source": [
    "print(\"\\n--- Visualização Inicial (head) ---\")\n",
    "df_category_name_translation.head()"
   ]
  },
  {
   "cell_type": "code",
   "execution_count": null,
   "id": "59d80155",
   "metadata": {},
   "outputs": [],
   "source": [
    "print(\"--- Informações descritivas (describe) ---\")\n",
    "df_category_name_translation.describe()"
   ]
  },
  {
   "cell_type": "code",
   "execution_count": null,
   "id": "0bce1a72",
   "metadata": {},
   "outputs": [],
   "source": [
    "print(\"--- Informações descritivas (tamanho) ---\")\n",
    "df_category_name_translation.shape"
   ]
  },
  {
   "cell_type": "markdown",
   "id": "ac76dfda",
   "metadata": {},
   "source": [
    "# Limpeza e tratamento de dados nulos e tipo de colunas\n",
    "___"
   ]
  },
  {
   "cell_type": "markdown",
   "id": "a762e421",
   "metadata": {},
   "source": [
    "## Tratamento no dataset orders"
   ]
  },
  {
   "cell_type": "markdown",
   "id": "a53b0a9b",
   "metadata": {},
   "source": [
    "### Anomalia de valores nulos no campo \"order_approved_at\"\n",
    "\n",
    "- **Insight:** Dos 160 valores nulos, 141 foram cancelados, 5 criados (mas não entregues) e 14 entregues. A anomalia está exatamente nos pedidos entregues sem data de criação."
   ]
  },
  {
   "cell_type": "code",
   "execution_count": null,
   "id": "6f8a2f07",
   "metadata": {},
   "outputs": [],
   "source": [
    "# Filtrar o DataFrame para mostrar apenas as linhas onde 'order_approved_at' é nulo\n",
    "df_pedidos_nao_aprovados = df_orders[df_orders['order_approved_at'].isnull()]\n",
    "# Conta o número de ocorrências de cada status de pedido entre os pedidos não aprovados\n",
    "contagem_status = df_pedidos_nao_aprovados['order_status'].value_counts()\n",
    "print(contagem_status)"
   ]
  },
  {
   "cell_type": "markdown",
   "id": "50a16699",
   "metadata": {},
   "source": [
    "### Tratamento da Anomalia de Dados \n",
    "\n",
    "A análise exploratória revelou 14 pedidos com status `delivered` na coluna `order_approved_at`. A investigação mostrou que estes pedidos são legítimos (possuem pagamentos, itens e avaliações), indicando uma provável falha no registo da data.\n",
    "Também foram encontradas nas colunas `order_delivered_carrier_date` e `order_delivered_customer_date` um total de 9 pedidos únicoos que foram marcados como `delivered` mas que possuem datas de entrega nulas. Esta é uma inconsistência crítica.\n",
    "\n",
    "**Decisão:** Para garantir a integridade dos nossos cálculos de tempo de entrega, dado o volume estatisticamente insignificante e para garantir a integridade dos cálculos de tempo de processamento, estas 23 linhas serão removidas do nosso conjunto de dados de análise.\n"
   ]
  },
  {
   "cell_type": "code",
   "execution_count": null,
   "id": "f84a22b5",
   "metadata": {},
   "outputs": [],
   "source": [
    "def remover_pedidos_anomalos(df_pedidos):\n",
    "    \"\"\"\n",
    "    Identifica e remove os pedidos marcados como 'delivered' mas sem data de aprovação.\n",
    "    Recebe o DataFrame de pedidos e retorna uma nova versão limpa.\n",
    "\n",
    "    Args:\n",
    "        df_pedidos (pd.DataFrame): O DataFrame original de pedidos.\n",
    "\n",
    "    Returns:\n",
    "        pd.DataFrame: Um novo DataFrame sem as linhas anómalas.\n",
    "    \"\"\"\n",
    "    # 1. Identificar os IDs dos pedidos anómalos\n",
    "    pedidos_nao_aprovados = df_pedidos[df_pedidos['order_approved_at'].isnull()]\n",
    "    ids_anomalia_1 = pedidos_nao_aprovados[pedidos_nao_aprovados['order_status'] == 'delivered']['order_id']\n",
    "    df_sem_envio = df_pedidos[df_pedidos['order_delivered_carrier_date'].isnull()] # Adicionado para clareza\n",
    "    ids_anomalia_2 = df_sem_envio[df_sem_envio['order_status'] == 'delivered']['order_id']\n",
    "    df_sem_entrega_cliente = df_pedidos[df_pedidos['order_delivered_customer_date'].isnull()] # Adicionado para clareza\n",
    "    ids_anomalia_3 = df_sem_entrega_cliente[df_sem_entrega_cliente['order_status'] == 'delivered']['order_id']\n",
    "    \n",
    "    # A correção está aqui: concatenamos as Séries e DEPOIS aplicamos .unique()\n",
    "    lista_id_anomalia = pd.concat([ids_anomalia_1, ids_anomalia_2, ids_anomalia_3]).unique().tolist()\n",
    "\n",
    "    # 2. Registrar a ação\n",
    "    print(f\"Encontradas {len(lista_id_anomalia)} linhas anómalas para remover.\")\n",
    "    print(f\"Número de linhas antes da limpeza: {df_pedidos.shape[0]}\")\n",
    "\n",
    "    # 3. Remover as linhas e criar um novo DataFrame\n",
    "    df_limpo = df_pedidos[~df_pedidos['order_id'].isin(lista_id_anomalia)].copy()\n",
    "\n",
    "    # 4. Verificar e retornar o resultado\n",
    "    print(f\"Número de linhas após a limpeza: {df_limpo.shape[0]}\")\n",
    "    \n",
    "    return df_limpo"
   ]
  },
  {
   "cell_type": "code",
   "execution_count": null,
   "id": "53c3c308",
   "metadata": {},
   "outputs": [],
   "source": [
    "# Chamar a nossa função de limpeza para tratar o DataFrame de pedidos\n",
    "df_orders_tratado = remover_pedidos_anomalos(df_orders)\n",
    "\n",
    "# A partir de agora, use a versão tratada: df_orders_tratado\n",
    "df_orders_tratado.info()\n",
    "print(df_orders_tratado.isnull().sum())"
   ]
  },
  {
   "cell_type": "markdown",
   "id": "8220ff5d",
   "metadata": {},
   "source": [
    "## Tratamento no dataset products\n"
   ]
  },
  {
   "cell_type": "markdown",
   "id": "9a1ad658",
   "metadata": {},
   "source": [
    "### Tratando valores\n",
    "\n",
    "- **Categoria:** Para categoria, usar \"Desconhecido\" é o mais ideal e quantificavel. Já quanto ao tamanho do nome do produto, da descrição e da quantidade de fotos, substituir por zero foi o mais seguro.\n",
    "- **Dimensões fisicas:** Para dimensões fisicas, preferi usar a mediana, visto que o peso medio de de 2,2kg e a mediana é de 700g, é mais ideal e mais proximo da realidade utilizar o valor mediano para não gerar anomalias."
   ]
  },
  {
   "cell_type": "code",
   "execution_count": null,
   "id": "7b1d1160",
   "metadata": {},
   "outputs": [],
   "source": [
    "# Verifique os nulos antes do tratamento para confirmar\n",
    "print(\"--- Nulos ANTES do tratamento em df_products: ---\")\n",
    "print(df_products.isnull().sum())\n",
    "\n",
    "# Crie uma cópia para trabalhar de forma segura, evitando o SettingWithCopyWarning\n",
    "df_products_tratado = df_products.copy()\n",
    "\n",
    "# Para a categoria do produto, 'desconhecido' é uma boa opção.\n",
    "df_products_tratado['product_category_name'] = df_products_tratado['product_category_name'].fillna('desconhecido')\n",
    "\n",
    "# Para comprimento do nome, descrição e quantidade de fotos, 0 é um valor neutro e seguro.\n",
    "colunas_para_preencher_com_zero = ['product_name_lenght', 'product_description_lenght', 'product_photos_qty']\n",
    "for coluna in colunas_para_preencher_com_zero:\n",
    "    df_products_tratado[coluna] = df_products_tratado[coluna].fillna(0)\n",
    "\n",
    "# Para as dimensões físicas, a mediana é mais robusta a outliers que a média.\n",
    "colunas_dimensoes = ['product_weight_g', 'product_length_cm', 'product_height_cm', 'product_width_cm']\n",
    "for coluna in colunas_dimensoes:\n",
    "    mediana = df_products_tratado[coluna].median()\n",
    "    df_products_tratado[coluna] = df_products_tratado[coluna].fillna(mediana)\n",
    "\n",
    "# Verifique os nulos depois do tratamento (o resultado deve ser uma lista de zeros)\n",
    "print(\"\\n--- Nulos APÓS o tratamento em df_products: ---\")\n",
    "print(df_products_tratado.isnull().sum())"
   ]
  },
  {
   "cell_type": "markdown",
   "id": "3d8c53f4",
   "metadata": {},
   "source": [
    "## Tratamento de Nulos em closed_deals"
   ]
  },
  {
   "cell_type": "code",
   "execution_count": null,
   "id": "b253fa6d",
   "metadata": {},
   "outputs": [],
   "source": [
    "# Verifique os nulos antes do tratamento para confirmar\n",
    "print(\"--- Nulos ANTES do tratamento em df_closed_deals: ---\")\n",
    "print(df_closed_deals.isnull().sum())\n",
    "\n",
    "# Crie uma cópia para trabalhar de forma segura, evitando o SettingWithCopyWarning\n",
    "df_closed_deals_tratado = df_closed_deals.copy()\n",
    "\n",
    "# Para as colunas de texto\n",
    "closed_deals_texto = ['business_segment', 'lead_type', 'lead_behaviour_profile', 'business_type']\n",
    "for coluna in closed_deals_texto:\n",
    "    df_closed_deals_tratado[coluna] = df_closed_deals_tratado[coluna].fillna('desconhecido')\n",
    "\n",
    "# Para as colunas de Sim/Não (booleans)\n",
    "closed_deals_bool = ['has_company', 'has_gtin']\n",
    "for coluna in closed_deals_bool:\n",
    "    df_closed_deals_tratado[coluna] = df_closed_deals_tratado[coluna].fillna(False)\n",
    "\n",
    "# Para as colunas numericas\n",
    "closed_deals_numericas = ['average_stock', 'declared_product_catalog_size']\n",
    "for coluna in closed_deals_numericas:\n",
    "    df_closed_deals_tratado[coluna] = df_closed_deals_tratado[coluna].fillna(0)\n",
    "\n",
    "# Verifique os nulos depois do tratamento (o resultado deve ser uma lista de zeros)\n",
    "print(\"\\n--- Nulos APÓS o tratamento em df_products: ---\")\n",
    "print(df_closed_deals_tratado.isnull().sum())"
   ]
  },
  {
   "cell_type": "markdown",
   "id": "384fadcb",
   "metadata": {},
   "source": [
    "# Tratando e convertendo colunas de string para data"
   ]
  },
  {
   "cell_type": "markdown",
   "id": "b91a182a",
   "metadata": {},
   "source": [
    "### Convertendo no dataset \"orders\""
   ]
  },
  {
   "cell_type": "code",
   "execution_count": null,
   "id": "9a60020b",
   "metadata": {},
   "outputs": [],
   "source": [
    "coluna_data_orders = ['order_purchase_timestamp', 'order_approved_at', 'order_delivered_carrier_date', 'order_delivered_customer_date', 'order_estimated_delivery_date']\n",
    "for coluna in coluna_data_orders:\n",
    "    df_orders_tratado[coluna] = pd.to_datetime(df_orders_tratado[coluna], errors='coerce')\n",
    "\n",
    "df_orders_tratado.info()\n",
    "print(df_orders_tratado.isnull().sum())"
   ]
  },
  {
   "cell_type": "markdown",
   "id": "65a9c182",
   "metadata": {},
   "source": [
    "### Convertendo no dataset \"order_items\"\n"
   ]
  },
  {
   "cell_type": "code",
   "execution_count": null,
   "id": "e94fc7ca",
   "metadata": {},
   "outputs": [],
   "source": [
    "df_order_items['shipping_limit_date'] = pd.to_datetime(df_order_items['shipping_limit_date'], errors='coerce')\n",
    "df_order_items.info()"
   ]
  },
  {
   "cell_type": "markdown",
   "id": "23e65078",
   "metadata": {},
   "source": [
    "### Convertendo no dataset \"order_reviews\"\n"
   ]
  },
  {
   "cell_type": "code",
   "execution_count": null,
   "id": "dd83c626",
   "metadata": {},
   "outputs": [],
   "source": [
    "colunas_data_reviews = ['review_creation_date', 'review_answer_timestamp']\n",
    "for coluna in colunas_data_reviews:\n",
    "    df_order_reviews[coluna] = pd.to_datetime(df_order_reviews[coluna], errors='coerce')\n",
    "df_order_reviews.info()"
   ]
  },
  {
   "cell_type": "markdown",
   "id": "ae8f7722",
   "metadata": {},
   "source": [
    "### Convertendo no dataset \"closed_deals\"\n"
   ]
  },
  {
   "cell_type": "code",
   "execution_count": null,
   "id": "e31c172f",
   "metadata": {},
   "outputs": [],
   "source": [
    "df_closed_deals_tratado['won_date'] = pd.to_datetime(df_closed_deals_tratado['won_date'], errors='coerce')\n",
    "df_closed_deals_tratado.info()"
   ]
  },
  {
   "cell_type": "markdown",
   "id": "92387c7b",
   "metadata": {},
   "source": [
    "### Convertendo no dataset \"marketing\"\n"
   ]
  },
  {
   "cell_type": "code",
   "execution_count": null,
   "id": "20fb67c6",
   "metadata": {},
   "outputs": [],
   "source": [
    "df_marketing['first_contact_date'] = pd.to_datetime(df_marketing['first_contact_date'], errors='coerce')\n",
    "df_marketing.info()\n"
   ]
  },
  {
   "cell_type": "markdown",
   "id": "1068ab15",
   "metadata": {},
   "source": [
    "# Unificação dos datasets (merge)\n",
    "---"
   ]
  },
  {
   "cell_type": "code",
   "execution_count": null,
   "id": "4a3de313",
   "metadata": {},
   "outputs": [],
   "source": [
    "# Passo 1: Comece pelo coração. Junte os pedidos com os seus itens.\n",
    "print(\"Iniciando a unificação...\")\n",
    "df_master = pd.merge(df_orders_tratado, df_order_items, on='order_id', how='left')\n",
    "print(f\"Shape após merge com order_items: {df_master.shape}\")\n",
    "\n",
    "# Passo 2: Adicionar os dados de pagamento\n",
    "df_master = pd.merge(df_master, df_order_payments, on='order_id', how='left')\n",
    "print(f\"Shape após merge com order_payments: {df_master.shape}\")\n",
    "\n",
    "# Passo 3: Adicionar os dados das reviews\n",
    "df_master = pd.merge(df_master, df_order_reviews, on='order_id', how='left')\n",
    "print(f\"Shape após merge com order_reviews: {df_master.shape}\")\n",
    "\n",
    "# Passo 4: Adicionar os dados dos produtos\n",
    "df_master = pd.merge(df_master, df_products_tratado, on='product_id', how='left')\n",
    "print(f\"Shape após merge com products_tratado: {df_master.shape}\")\n",
    "\n",
    "# Passo 5: Adicionar os dados dos clientes\n",
    "df_master = pd.merge(df_master, df_customers, on='customer_id', how='left')\n",
    "print(f\"Shape após merge com customers: {df_master.shape}\")\n",
    "\n",
    "# Passo 6: Adicionar os dados dos vendedores\n",
    "df_master = pd.merge(df_master, df_sellers, on='seller_id', how='left')\n",
    "print(f\"Shape após merge com sellers: {df_master.shape}\")\n",
    "\n",
    "# Verificação final\n",
    "print(\"\\n--- Verificação final do df_master ---\")\n",
    "print((df_master).isnull().sum())"
   ]
  },
  {
   "cell_type": "markdown",
   "id": "5c50f11d",
   "metadata": {},
   "source": [
    "## Análise Pós-Unificação: Investigação de Nulos."
   ]
  },
  {
   "cell_type": "markdown",
   "id": "16a5bab8",
   "metadata": {},
   "source": [
    "**Decisão Final de Tratamento:** O pedido anómalo `shipped` foi removido para garantir a integridade da análise logística. Os restantes nulos informativos (pedidos cancelados, etc.) serão mantidos. O DataFrame df_master está agora considerado limpo e validado para a próxima fase.\""
   ]
  },
  {
   "cell_type": "code",
   "execution_count": null,
   "id": "fd9f7744",
   "metadata": {},
   "outputs": [],
   "source": [
    "# Filtrar o df_master para encontrar as linhas onde 'order_item_id' é nulo\n",
    "df_pedidos_vazios = df_master[df_master['order_item_id'].isnull()]\n",
    "id_anomalo_shipped = df_pedidos_vazios[df_pedidos_vazios['order_status'] == 'shipped']['order_id'].iloc[0]\n",
    "\n",
    "# Verificar o número de linhas antes da limpeza\n",
    "print(f\"Número de linhas em df_master antes da limpeza final: {df_master.shape[0]}\")\n",
    "\n",
    "# Remover os pedidos anômalos do df_master\n",
    "df_master = df_master[df_master['order_id'] != id_anomalo_shipped]\n",
    "print(f\"Número de linhas em df_master após a remoção do pedido anômalo: {df_master.shape[0]}\")\n",
    "\n",
    "# Verificar o número de linhas depois da limpeza\n",
    "print(f\"Número de linhas em df_master após a limpeza final: {df_master.shape[0]}\")\n",
    "\n",
    "\n"
   ]
  },
  {
   "cell_type": "markdown",
   "id": "565fd161",
   "metadata": {},
   "source": [
    "## Análise do Negócio"
   ]
  },
  {
   "cell_type": "markdown",
   "id": "ca3165d3",
   "metadata": {},
   "source": [
    "**Processo:** Visto que, alguns pagamentos foram parcelados, foi criado um uma copia da master e um DataFrame para agregar esses pagamentos em um unico lugar."
   ]
  },
  {
   "cell_type": "code",
   "execution_count": null,
   "id": "3420b91e",
   "metadata": {},
   "outputs": [],
   "source": [
    "df_analise = df_master.copy()\n",
    "\n",
    "\n",
    "print(\"Criando tabela de pagamentos...\")\n",
    "df_pagamentos_agregado = df_analise.groupby('order_id').agg(\n",
    "    total_parcelas = ('payment_installments', 'sum'),\n",
    "    valor_total_pagamento = ('payment_value', 'sum'),\n",
    "    tipo_pagamento_principal = ('payment_type', 'first')\n",
    ").reset_index()\n",
    "\n",
    "print(\"Visão Agregada dos Pagamentos:\")\n",
    "print(df_pagamentos_agregado.info())"
   ]
  },
  {
   "cell_type": "markdown",
   "id": "be24f47f",
   "metadata": {},
   "source": [
    "### Engenharia de Atributos"
   ]
  },
  {
   "cell_type": "markdown",
   "id": "6b90895b",
   "metadata": {},
   "source": [
    "**Processo:** Para realizar algumas analises temporais, foi necessário fazer alguns calculos para conseguir os dados referente ao tempo de entrega, a diferença entre a data real e a data estimada, e separar ano, mês e dia da semana."
   ]
  },
  {
   "cell_type": "code",
   "execution_count": null,
   "id": "b8beb2be",
   "metadata": {},
   "outputs": [],
   "source": [
    "# Tempo de entrega em dias\n",
    "df_analise['tempo_entrega'] = (df_analise['order_delivered_customer_date'] - df_analise['order_purchase_timestamp']).dt.days\n",
    "\n",
    "# Diferença entre a data estimada e a data real de entrega\n",
    "df_analise['diferenca_entrega_estimada'] = (df_analise['order_estimated_delivery_date'] - df_analise['order_delivered_customer_date']).dt.days\n",
    "\n",
    "# Extrair ano, mês, dia da semana, focada em sazonalidade\n",
    "df_analise['ano_compra'] = df_analise['order_purchase_timestamp'].dt.year\n",
    "df_analise['mes_compra'] = df_analise['order_purchase_timestamp'].dt.month\n",
    "df_analise['dia_semana_compra'] = df_analise['order_purchase_timestamp'].dt.day_name()\n",
    "\n",
    "# Verificar novas colunas\n",
    "print(\"\\n--- Novas colunas em df_analise ---\")\n",
    "df_analise[['tempo_entrega', 'diferenca_entrega_estimada', 'ano_compra', 'mes_compra', 'dia_semana_compra']].head()"
   ]
  },
  {
   "cell_type": "markdown",
   "id": "00475ca0",
   "metadata": {},
   "source": [
    "# 1. Perguntas de Negócio"
   ]
  },
  {
   "cell_type": "markdown",
   "id": "c5fa83c3",
   "metadata": {},
   "source": [
    "### 1.1 Análise Geral de Vendas"
   ]
  },
  {
   "cell_type": "markdown",
   "id": "93a7a782",
   "metadata": {},
   "source": [
    "**Processo:** O foco aqui é criar algumas visões de negócio. As visões escolhidas foram as de receita total, Quantidade de Pedidos por mês e o TOP 10 categorias vendidas. \n",
    "Para isso foram criadas 3 variaveis: `receita_total`, `sazonalidade_vendas` e `categorias_mais_vendidas`."
   ]
  },
  {
   "cell_type": "code",
   "execution_count": null,
   "id": "a7ff5d92",
   "metadata": {},
   "outputs": [],
   "source": [
    "# Qual a receita total? Usar a df_pagamentos_agregado para isso, para evitar duplicidade de valores.\n",
    "receita_total = df_pagamentos_agregado['valor_total_pagamento'].sum()\n",
    "print(f\"A Receita total foi de: R$ {receita_total:,.2f}\")\n",
    "\n",
    "# Qual a sazonalidade das vendas ao longo do ano?\n",
    "sazonalidade_vendas = df_analise.groupby('mes_compra')['order_id'].nunique().sort_index()\n",
    "print(\"Quantidade de Pedidos por Mês:\")\n",
    "print(sazonalidade_vendas)\n",
    "\n",
    "# Quais categorias de produtos mais vendidas?\n",
    "categorias_mais_vendidas = df_analise['product_category_name'].value_counts().head(10)\n",
    "print(\"Top 10 Categorias de Produtos mais Vendidas:\")\n",
    "print(categorias_mais_vendidas)"
   ]
  },
  {
   "cell_type": "markdown",
   "id": "899c8e26",
   "metadata": {},
   "source": [
    "### 1.2 Análise de Clientes e RFM"
   ]
  },
  {
   "cell_type": "markdown",
   "id": "5a6b555e",
   "metadata": {},
   "source": []
  },
  {
   "cell_type": "code",
   "execution_count": null,
   "id": "796febf6",
   "metadata": {},
   "outputs": [],
   "source": [
    "# Definir a data de referência como o dia após a última compra no dataset\n",
    "snapshot_data = df_analise['order_purchase_timestamp'].max() + pd.Timedelta(days=1)\n",
    "\n",
    "# Calcular RFM (Recência, Frequência, Valor Monetário)\n",
    "# Agrupar por cliente unico e calcular as métricas RFM\n",
    "df_rfm = df_analise.groupby('customer_unique_id').agg({\n",
    "    'order_purchase_timestamp': lambda date: (snapshot_data - date.max()).days, # Recência\n",
    "    'order_id':'nunique', # Frequência\n",
    "    'price': \"sum\" # Valor Monetário\n",
    "})\n",
    "\n",
    "# Renomear as colunas \n",
    "df_rfm.rename(columns = {\n",
    "    'order_purchase_timestamp': 'recencia',\n",
    "    'order_id': 'frequencia',\n",
    "    'price': 'valor_monetario'}, inplace=True)  \n",
    "\n",
    "print(\"Visão Geral do RFM:\")\n",
    "print(df_rfm.describe())\n",
    "\n",
    "# Criar os scores de RFM\n",
    "df_rfm['R_Score'] = pd.qcut(df_rfm['recencia'], 4, labels=[4, 3, 2, 1]) #Maior recência (menos dias), maior score\n",
    "df_rfm['F_Score'] = pd.qcut(df_rfm['frequencia'].rank(method='first'), 4, labels=[1, 2, 3, 4]) #Maior frequência, maior score\n",
    "df_rfm['M_Score'] = pd.qcut(df_rfm['valor_monetario'], 4, labels=[1, 2, 3, 4]) #Maior valor monetário, maior score\n",
    "\n",
    "df_rfm['RFM_SCORE'] = df_rfm['R_Score'].astype(str) + df_rfm['F_Score'].astype(str) + df_rfm['M_Score'].astype(str)\n",
    "\n",
    "print(\"Tabela RFM criada com sucesso\")\n",
    "print(df_rfm.head())\n"
   ]
  }
 ],
 "metadata": {
  "kernelspec": {
   "display_name": "projeto-olist-completo-py3.12",
   "language": "python",
   "name": "python3"
  },
  "language_info": {
   "codemirror_mode": {
    "name": "ipython",
    "version": 3
   },
   "file_extension": ".py",
   "mimetype": "text/x-python",
   "name": "python",
   "nbconvert_exporter": "python",
   "pygments_lexer": "ipython3",
   "version": "3.12.1"
  }
 },
 "nbformat": 4,
 "nbformat_minor": 5
}
